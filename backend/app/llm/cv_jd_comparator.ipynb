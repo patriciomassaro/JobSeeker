{
 "cells": [
  {
   "cell_type": "code",
   "execution_count": 1,
   "metadata": {},
   "outputs": [
    {
     "name": "stderr",
     "output_type": "stream",
     "text": [
      "2024-04-26 10:19:34,475 - CVExtractor - INFO - Extracting CV data for user 1\n",
      "2024-04-26 10:20:46,598 - CVExtractor - INFO - Extracted data from text: \n",
      " Tokens Used: 3087\n",
      "\tPrompt Tokens: 1677\n",
      "\tCompletion Tokens: 1410\n",
      "Successful Requests: 1\n",
      "Total Cost (USD): $0.05907\n",
      "2024-04-26 10:20:46,612 - CVExtractor - INFO - Successfully extracted CV data for user 1\n"
     ]
    },
    {
     "data": {
      "text/plain": [
       "1"
      ]
     },
     "execution_count": 1,
     "metadata": {},
     "output_type": "execute_result"
    }
   ],
   "source": [
    "# add the root to the path\n",
    "import sys\n",
    "import pandas as pd\n",
    "sys.path.append('/Users/pmassaro/Documents/Repos/JobSeeker')\n",
    "from sqlalchemy import text\n",
    "from jobseeker.database import DatabaseManager\n",
    "from jobseeker.llm import ModelNames\n",
    "from jobseeker.llm.cv_data_extractor import CVLLMExtractor\n",
    "from jobseeker.llm.job_description_extractor import JobDescriptionLLMExtractor\n",
    "from jobseeker.llm.cv_builder import CVBuilder\n",
    "from jobseeker.llm.requirements_qualification_comparator import RequirementsQualificationsComparator\n",
    "from jobseeker.llm.cover_letter_builder import CoverLetterBuilder\n",
    "\n",
    "\n",
    "db = DatabaseManager()\n",
    "user_id = 1\n",
    "\n",
    "\n",
    "cv_extractor = CVLLMExtractor(model_name=ModelNames.GPT4_TURBO,temperature=0)\n",
    "cv_extractor.extract_cv_and_write_to_db(user_id=user_id)\n"
   ]
  },
  {
   "cell_type": "code",
   "execution_count": 64,
   "metadata": {},
   "outputs": [
    {
     "data": {
      "text/html": [
       "<div>\n",
       "<style scoped>\n",
       "    .dataframe tbody tr th:only-of-type {\n",
       "        vertical-align: middle;\n",
       "    }\n",
       "\n",
       "    .dataframe tbody tr th {\n",
       "        vertical-align: top;\n",
       "    }\n",
       "\n",
       "    .dataframe thead th {\n",
       "        text-align: right;\n",
       "    }\n",
       "</style>\n",
       "<table border=\"1\" class=\"dataframe\">\n",
       "  <thead>\n",
       "    <tr style=\"text-align: right;\">\n",
       "      <th></th>\n",
       "      <th>id</th>\n",
       "      <th>title</th>\n",
       "      <th>seniority_level</th>\n",
       "      <th>employment_type</th>\n",
       "      <th>job_description</th>\n",
       "      <th>company</th>\n",
       "      <th>company_url</th>\n",
       "      <th>industries</th>\n",
       "      <th>job_functions</th>\n",
       "      <th>institution_id</th>\n",
       "      <th>job_salary_range_max</th>\n",
       "      <th>job_salary_range_min</th>\n",
       "      <th>job_poster_profile_url</th>\n",
       "      <th>job_poster_name</th>\n",
       "      <th>skills</th>\n",
       "      <th>date_created</th>\n",
       "      <th>job_posting_summary</th>\n",
       "      <th>date_updated</th>\n",
       "    </tr>\n",
       "  </thead>\n",
       "  <tbody>\n",
       "    <tr>\n",
       "      <th>0</th>\n",
       "      <td>3725730599</td>\n",
       "      <td>AI Engineer</td>\n",
       "      <td>Mid-Senior level</td>\n",
       "      <td>Full-time</td>\n",
       "      <td>✍🏽 About Writer\\n\\n\\nAI your people will love....</td>\n",
       "      <td>Writer</td>\n",
       "      <td>https://www.linkedin.com/company/getwriter</td>\n",
       "      <td>[Software Development]</td>\n",
       "      <td>[Engineering Information Technology]</td>\n",
       "      <td>None</td>\n",
       "      <td>None</td>\n",
       "      <td>None</td>\n",
       "      <td>None</td>\n",
       "      <td>None</td>\n",
       "      <td>None</td>\n",
       "      <td>2024-04-25 15:32:11.784953</td>\n",
       "      <td>None</td>\n",
       "      <td>2024-04-25 15:32:11.784953</td>\n",
       "    </tr>\n",
       "  </tbody>\n",
       "</table>\n",
       "</div>"
      ],
      "text/plain": [
       "           id        title   seniority_level employment_type  \\\n",
       "0  3725730599  AI Engineer  Mid-Senior level       Full-time   \n",
       "\n",
       "                                     job_description company  \\\n",
       "0  ✍🏽 About Writer\\n\\n\\nAI your people will love....  Writer   \n",
       "\n",
       "                                  company_url              industries  \\\n",
       "0  https://www.linkedin.com/company/getwriter  [Software Development]   \n",
       "\n",
       "                          job_functions institution_id job_salary_range_max  \\\n",
       "0  [Engineering Information Technology]           None                 None   \n",
       "\n",
       "  job_salary_range_min job_poster_profile_url job_poster_name skills  \\\n",
       "0                 None                   None            None   None   \n",
       "\n",
       "                date_created job_posting_summary               date_updated  \n",
       "0 2024-04-25 15:32:11.784953                None 2024-04-25 15:32:11.784953  "
      ]
     },
     "execution_count": 64,
     "metadata": {},
     "output_type": "execute_result"
    }
   ],
   "source": [
    "# create a query selecting all the job postings\n",
    "query = text(\"\"\"\n",
    "    SELECT \n",
    "        *\n",
    "    FROM job_postings JP\n",
    "             \n",
    "    where \n",
    "        lower(company) like '%writer%' \n",
    "        and (lower(title) like '%ai%'  \n",
    "          or lower(title) like '%scientist%'\n",
    "     )\n",
    "    --and id in (3746695448,3746693430,3814013833,3774906497,3854675033,3746692698)\n",
    "\n",
    "\"\"\" )\n",
    "session = db.get_session()\n",
    "job_postings= session.execute(query)\n",
    "job_postings = pd.DataFrame(job_postings.fetchall(), columns=job_postings.keys())\n",
    "session.close()\n",
    "job_ids = job_postings['id'].tolist()\n",
    "job_postings"
   ]
  },
  {
   "cell_type": "markdown",
   "metadata": {},
   "source": [
    "# Create job description and CV summaries using LLMs"
   ]
  },
  {
   "cell_type": "code",
   "execution_count": 65,
   "metadata": {},
   "outputs": [
    {
     "name": "stderr",
     "output_type": "stream",
     "text": [
      "2024-04-25 11:32:35,370 - JobDescriptionExtractor - INFO - Extracting job posting 3725730599...\n",
      "2024-04-25 11:33:13,503 - JobDescriptionExtractor - INFO - Extracted data from text: \n",
      " Tokens Used: 3387\n",
      "\tPrompt Tokens: 2717\n",
      "\tCompletion Tokens: 670\n",
      "Successful Requests: 1\n",
      "Total Cost (USD): $0.04727\n",
      "2024-04-25 11:33:13,526 - JobDescriptionExtractor - INFO - Job posting 3725730599 updated successfully.\n",
      "2024-04-25 11:33:13,581 - CVExtractor - INFO - Extracting CV data for user 1\n",
      "2024-04-25 11:33:13,610 - CVExtractor - INFO - User 1 already has a CV summary. Set replace_existing_summary to True to overwrite.\n",
      "2024-04-25 11:33:13,673 - RequirementsQualificationsComparator - INFO - Comparing requirements and qualifications for user 1 and job posting 3725730599\n",
      "2024-04-25 11:33:58,085 - RequirementsQualificationsComparator - INFO - Extracted data from text: \n",
      " Tokens Used: 3446\n",
      "\tPrompt Tokens: 2740\n",
      "\tCompletion Tokens: 706\n",
      "Successful Requests: 1\n",
      "Total Cost (USD): $0.04858\n",
      "2024-04-25 11:33:58,131 - DatabaseManager - INFO - Added object successfully\n",
      "2024-04-25 11:33:58,138 - RequirementsQualificationsComparator - INFO - Added comparison for user 1 and job posting 3725730599\n"
     ]
    }
   ],
   "source": [
    "job_posting_parser = JobDescriptionLLMExtractor(model_name=ModelNames.GPT4_TURBO,temperature=0)\n",
    "job_posting_parser.update_job_postings(job_ids=job_ids)\n",
    "\n",
    "cv_extractor = CVLLMExtractor(model_name=ModelNames.GPT4_TURBO,temperature=0)\n",
    "cv_extractor.extract_cv_and_write_to_db(user_id=user_id)\n",
    "\n",
    "comparator = RequirementsQualificationsComparator(model_name=ModelNames.GPT4_TURBO,\n",
    "                                                  temperature=0.55,\n",
    "                                                  user_id=user_id)\n",
    "comparator.compare_job_postings_with_user(job_ids=job_ids,replace_previous_comparison_flag=True)\n"
   ]
  },
  {
   "cell_type": "markdown",
   "metadata": {},
   "source": [
    "Now, query the DB and get the relevant info"
   ]
  },
  {
   "cell_type": "markdown",
   "metadata": {},
   "source": [
    "# Build CV"
   ]
  },
  {
   "cell_type": "code",
   "execution_count": 66,
   "metadata": {},
   "outputs": [
    {
     "name": "stderr",
     "output_type": "stream",
     "text": [
      "2024-04-25 11:44:46,943 - CVBuilder - INFO - Job 3725730599\n",
      "2024-04-25 11:46:03,165 - CVBuilder - INFO - Built CV for user 1 and 3725730599 \n",
      " Tokens Used: 4374\n",
      "\tPrompt Tokens: 3282\n",
      "\tCompletion Tokens: 1092\n",
      "Successful Requests: 1\n",
      "Total Cost (USD): $0.06558\n",
      "2024-04-25 11:46:04,076 - CVBuilder - INFO - PDF created successfully: /Users/pmassaro/Documents/Repos/JobSeeker/jobseeker/media/1/Writer_AIEngineer_CV.pdf\n",
      "2024-04-25 11:46:08,086 - CVBuilder - INFO - Successfully processed job posting 3725730599 with result: None\n"
     ]
    }
   ],
   "source": [
    "cv_builder = CVBuilder(model_name=ModelNames.GPT4_TURBO,temperature=0.6,user_id=user_id)\n",
    "cv_builder.build(job_ids=job_ids)\n"
   ]
  },
  {
   "cell_type": "markdown",
   "metadata": {},
   "source": [
    "# Build Cover Letter"
   ]
  },
  {
   "cell_type": "code",
   "execution_count": 55,
   "metadata": {},
   "outputs": [
    {
     "name": "stderr",
     "output_type": "stream",
     "text": [
      "2024-04-25 11:14:32,022 - CVBuilder - INFO - Job 3746695448\n",
      "2024-04-25 11:14:32,022 - CVBuilder - INFO - Job 3746693430\n",
      "2024-04-25 11:14:32,022 - CVBuilder - INFO - Job 3814013833\n",
      "2024-04-25 11:14:32,022 - CVBuilder - INFO - Job 3774906497\n",
      "2024-04-25 11:14:32,022 - CVBuilder - INFO - Job 3854675033\n",
      "2024-04-25 11:14:47,866 - CVBuilder - INFO - Built Cover Letter for user 1 and 3746695448: \n",
      " Tokens Used: 4542\n",
      "\tPrompt Tokens: 4267\n",
      "\tCompletion Tokens: 275\n",
      "Successful Requests: 1\n",
      "Total Cost (USD): $0.05092000000000001\n",
      "2024-04-25 11:14:48,319 - CVBuilder - INFO - PDF created successfully: /Users/pmassaro/Documents/Repos/JobSeeker/jobseeker/media/1/Figma_MLAIEngineerAppliedResearch_cover_letter.pdf\n",
      "2024-04-25 11:14:48,338 - CVBuilder - INFO - Built Cover Letter for user 1 and 3774906497: \n",
      " Tokens Used: 4463\n",
      "\tPrompt Tokens: 4181\n",
      "\tCompletion Tokens: 282\n",
      "Successful Requests: 1\n",
      "Total Cost (USD): $0.050269999999999995\n",
      "2024-04-25 11:14:48,722 - CVBuilder - INFO - PDF created successfully: /Users/pmassaro/Documents/Repos/JobSeeker/jobseeker/media/1/Figma_DataScientistProduct_cover_letter.pdf\n",
      "2024-04-25 11:14:52,329 - CVBuilder - INFO - Job 3746692698\n",
      "2024-04-25 11:14:52,330 - CVBuilder - INFO - Successfully processed job posting 3746695448 with result: None\n",
      "2024-04-25 11:14:52,731 - CVBuilder - INFO - Successfully processed job posting 3774906497 with result: None\n",
      "2024-04-25 11:14:54,970 - CVBuilder - INFO - Built Cover Letter for user 1 and 3814013833: \n",
      " Tokens Used: 4397\n",
      "\tPrompt Tokens: 4119\n",
      "\tCompletion Tokens: 278\n",
      "Successful Requests: 1\n",
      "Total Cost (USD): $0.04953\n",
      "2024-04-25 11:14:55,381 - CVBuilder - INFO - PDF created successfully: /Users/pmassaro/Documents/Repos/JobSeeker/jobseeker/media/1/Figma_MLAIEngineerInfrastructure_cover_letter.pdf\n",
      "2024-04-25 11:14:57,215 - CVBuilder - INFO - Built Cover Letter for user 1 and 3746693430: \n",
      " Tokens Used: 4489\n",
      "\tPrompt Tokens: 4176\n",
      "\tCompletion Tokens: 313\n",
      "Successful Requests: 1\n",
      "Total Cost (USD): $0.05115\n",
      "2024-04-25 11:14:57,711 - CVBuilder - INFO - Built Cover Letter for user 1 and 3854675033: \n",
      " Tokens Used: 4634\n",
      "\tPrompt Tokens: 4283\n",
      "\tCompletion Tokens: 351\n",
      "Successful Requests: 1\n",
      "Total Cost (USD): $0.053360000000000005\n",
      "2024-04-25 11:14:57,799 - CVBuilder - INFO - PDF created successfully: /Users/pmassaro/Documents/Repos/JobSeeker/jobseeker/media/1/Figma_DataScientistPlatform_cover_letter.pdf\n",
      "2024-04-25 11:14:58,151 - CVBuilder - INFO - PDF created successfully: /Users/pmassaro/Documents/Repos/JobSeeker/jobseeker/media/1/Figma_MLEngineerSearch_cover_letter.pdf\n",
      "2024-04-25 11:14:59,392 - CVBuilder - INFO - Successfully processed job posting 3814013833 with result: None\n",
      "2024-04-25 11:15:01,803 - CVBuilder - INFO - Successfully processed job posting 3746693430 with result: None\n",
      "2024-04-25 11:15:02,162 - CVBuilder - INFO - Successfully processed job posting 3854675033 with result: None\n",
      "2024-04-25 11:15:08,384 - CVBuilder - INFO - Built Cover Letter for user 1 and 3746692698: \n",
      " Tokens Used: 4442\n",
      "\tPrompt Tokens: 4121\n",
      "\tCompletion Tokens: 321\n",
      "Successful Requests: 1\n",
      "Total Cost (USD): $0.05084\n",
      "2024-04-25 11:15:08,807 - CVBuilder - INFO - PDF created successfully: /Users/pmassaro/Documents/Repos/JobSeeker/jobseeker/media/1/Figma_DataScientistGo-to-Market_cover_letter.pdf\n",
      "2024-04-25 11:15:12,822 - CVBuilder - INFO - Successfully processed job posting 3746692698 with result: None\n"
     ]
    }
   ],
   "source": [
    "cover_letter_builder = CoverLetterBuilder(model_name=ModelNames.GPT4_TURBO,temperature=0.5,user_id=user_id)\n",
    "cover_letter_builder.build(job_ids=job_ids)\n",
    "\n",
    "                       "
   ]
  }
 ],
 "metadata": {
  "kernelspec": {
   "display_name": "jobseeker",
   "language": "python",
   "name": "python3"
  },
  "language_info": {
   "codemirror_mode": {
    "name": "ipython",
    "version": 3
   },
   "file_extension": ".py",
   "mimetype": "text/x-python",
   "name": "python",
   "nbconvert_exporter": "python",
   "pygments_lexer": "ipython3",
   "version": "3.11.9"
  }
 },
 "nbformat": 4,
 "nbformat_minor": 2
}
